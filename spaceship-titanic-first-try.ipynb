{
 "cells": [
  {
   "cell_type": "code",
   "execution_count": 1,
   "id": "8c66e737",
   "metadata": {
    "_cell_guid": "b1076dfc-b9ad-4769-8c92-a6c4dae69d19",
    "_uuid": "8f2839f25d086af736a60e9eeb907d3b93b6e0e5",
    "execution": {
     "iopub.execute_input": "2022-06-21T09:08:56.685389Z",
     "iopub.status.busy": "2022-06-21T09:08:56.684774Z",
     "iopub.status.idle": "2022-06-21T09:08:56.700625Z",
     "shell.execute_reply": "2022-06-21T09:08:56.699687Z"
    },
    "papermill": {
     "duration": 0.029926,
     "end_time": "2022-06-21T09:08:56.702965",
     "exception": false,
     "start_time": "2022-06-21T09:08:56.673039",
     "status": "completed"
    },
    "tags": []
   },
   "outputs": [
    {
     "name": "stdout",
     "output_type": "stream",
     "text": [
      "/kaggle/input/spaceship-titanic/sample_submission.csv\n",
      "/kaggle/input/spaceship-titanic/train.csv\n",
      "/kaggle/input/spaceship-titanic/test.csv\n"
     ]
    }
   ],
   "source": [
    "# This Python 3 environment comes with many helpful analytics libraries installed\n",
    "# It is defined by the kaggle/python Docker image: https://github.com/kaggle/docker-python\n",
    "# For example, here's several helpful packages to load\n",
    "\n",
    "import numpy as np # linear algebra\n",
    "import pandas as pd # data processing, CSV file I/O (e.g. pd.read_csv)\n",
    "\n",
    "# Input data files are available in the read-only \"../input/\" directory\n",
    "# For example, running this (by clicking run or pressing Shift+Enter) will list all files under the input directory\n",
    "\n",
    "import os\n",
    "for dirname, _, filenames in os.walk('/kaggle/input'):\n",
    "    for filename in filenames:\n",
    "        print(os.path.join(dirname, filename))\n",
    "\n",
    "# You can write up to 20GB to the current directory (/kaggle/working/) that gets preserved as output when you create a version using \"Save & Run All\" \n",
    "# You can also write temporary files to /kaggle/temp/, but they won't be saved outside of the current session"
   ]
  },
  {
   "cell_type": "markdown",
   "id": "276d7ff8",
   "metadata": {
    "papermill": {
     "duration": 0.006167,
     "end_time": "2022-06-21T09:08:56.715661",
     "exception": false,
     "start_time": "2022-06-21T09:08:56.709494",
     "status": "completed"
    },
    "tags": []
   },
   "source": [
    "Firstly, lets import fastai library."
   ]
  },
  {
   "cell_type": "code",
   "execution_count": 2,
   "id": "c2576545",
   "metadata": {
    "execution": {
     "iopub.execute_input": "2022-06-21T09:08:56.730532Z",
     "iopub.status.busy": "2022-06-21T09:08:56.729812Z",
     "iopub.status.idle": "2022-06-21T09:08:59.592236Z",
     "shell.execute_reply": "2022-06-21T09:08:59.591348Z"
    },
    "papermill": {
     "duration": 2.872502,
     "end_time": "2022-06-21T09:08:59.594587",
     "exception": false,
     "start_time": "2022-06-21T09:08:56.722085",
     "status": "completed"
    },
    "tags": []
   },
   "outputs": [],
   "source": [
    "from fastai.tabular.all import *"
   ]
  },
  {
   "cell_type": "markdown",
   "id": "3e9a6b79",
   "metadata": {
    "papermill": {
     "duration": 0.006231,
     "end_time": "2022-06-21T09:08:59.607309",
     "exception": false,
     "start_time": "2022-06-21T09:08:59.601078",
     "status": "completed"
    },
    "tags": []
   },
   "source": [
    "Then, lets create a path for our datas and read these .csv files with pandas."
   ]
  },
  {
   "cell_type": "code",
   "execution_count": 3,
   "id": "a85a19e3",
   "metadata": {
    "execution": {
     "iopub.execute_input": "2022-06-21T09:08:59.622243Z",
     "iopub.status.busy": "2022-06-21T09:08:59.621677Z",
     "iopub.status.idle": "2022-06-21T09:08:59.626077Z",
     "shell.execute_reply": "2022-06-21T09:08:59.625023Z"
    },
    "papermill": {
     "duration": 0.014188,
     "end_time": "2022-06-21T09:08:59.627925",
     "exception": false,
     "start_time": "2022-06-21T09:08:59.613737",
     "status": "completed"
    },
    "tags": []
   },
   "outputs": [],
   "source": [
    "path = Path('/kaggle/input/spaceship-titanic/')"
   ]
  },
  {
   "cell_type": "code",
   "execution_count": 4,
   "id": "b758b319",
   "metadata": {
    "execution": {
     "iopub.execute_input": "2022-06-21T09:08:59.642508Z",
     "iopub.status.busy": "2022-06-21T09:08:59.641704Z",
     "iopub.status.idle": "2022-06-21T09:08:59.738669Z",
     "shell.execute_reply": "2022-06-21T09:08:59.737874Z"
    },
    "papermill": {
     "duration": 0.106732,
     "end_time": "2022-06-21T09:08:59.741003",
     "exception": false,
     "start_time": "2022-06-21T09:08:59.634271",
     "status": "completed"
    },
    "tags": []
   },
   "outputs": [],
   "source": [
    "train_df = pd.read_csv(path/'train.csv')\n",
    "test_df = pd.read_csv(path/'test.csv')\n",
    "submission = pd.read_csv(path/'sample_submission.csv')"
   ]
  },
  {
   "cell_type": "markdown",
   "id": "0fcb326a",
   "metadata": {
    "papermill": {
     "duration": 0.006051,
     "end_time": "2022-06-21T09:08:59.753937",
     "exception": false,
     "start_time": "2022-06-21T09:08:59.747886",
     "status": "completed"
    },
    "tags": []
   },
   "source": [
    "As you can see from above these datas stored in dataframe right now. We need to check what is inside of this data."
   ]
  },
  {
   "cell_type": "code",
   "execution_count": 5,
   "id": "7ce42c68",
   "metadata": {
    "execution": {
     "iopub.execute_input": "2022-06-21T09:08:59.768645Z",
     "iopub.status.busy": "2022-06-21T09:08:59.768005Z",
     "iopub.status.idle": "2022-06-21T09:08:59.797317Z",
     "shell.execute_reply": "2022-06-21T09:08:59.796357Z"
    },
    "papermill": {
     "duration": 0.039228,
     "end_time": "2022-06-21T09:08:59.799534",
     "exception": false,
     "start_time": "2022-06-21T09:08:59.760306",
     "status": "completed"
    },
    "tags": []
   },
   "outputs": [
    {
     "data": {
      "text/html": [
       "<div>\n",
       "<style scoped>\n",
       "    .dataframe tbody tr th:only-of-type {\n",
       "        vertical-align: middle;\n",
       "    }\n",
       "\n",
       "    .dataframe tbody tr th {\n",
       "        vertical-align: top;\n",
       "    }\n",
       "\n",
       "    .dataframe thead th {\n",
       "        text-align: right;\n",
       "    }\n",
       "</style>\n",
       "<table border=\"1\" class=\"dataframe\">\n",
       "  <thead>\n",
       "    <tr style=\"text-align: right;\">\n",
       "      <th></th>\n",
       "      <th>PassengerId</th>\n",
       "      <th>HomePlanet</th>\n",
       "      <th>CryoSleep</th>\n",
       "      <th>Cabin</th>\n",
       "      <th>Destination</th>\n",
       "      <th>Age</th>\n",
       "      <th>VIP</th>\n",
       "      <th>RoomService</th>\n",
       "      <th>FoodCourt</th>\n",
       "      <th>ShoppingMall</th>\n",
       "      <th>Spa</th>\n",
       "      <th>VRDeck</th>\n",
       "      <th>Name</th>\n",
       "      <th>Transported</th>\n",
       "    </tr>\n",
       "  </thead>\n",
       "  <tbody>\n",
       "    <tr>\n",
       "      <th>0</th>\n",
       "      <td>0001_01</td>\n",
       "      <td>Europa</td>\n",
       "      <td>False</td>\n",
       "      <td>B/0/P</td>\n",
       "      <td>TRAPPIST-1e</td>\n",
       "      <td>39.0</td>\n",
       "      <td>False</td>\n",
       "      <td>0.0</td>\n",
       "      <td>0.0</td>\n",
       "      <td>0.0</td>\n",
       "      <td>0.0</td>\n",
       "      <td>0.0</td>\n",
       "      <td>Maham Ofracculy</td>\n",
       "      <td>False</td>\n",
       "    </tr>\n",
       "    <tr>\n",
       "      <th>1</th>\n",
       "      <td>0002_01</td>\n",
       "      <td>Earth</td>\n",
       "      <td>False</td>\n",
       "      <td>F/0/S</td>\n",
       "      <td>TRAPPIST-1e</td>\n",
       "      <td>24.0</td>\n",
       "      <td>False</td>\n",
       "      <td>109.0</td>\n",
       "      <td>9.0</td>\n",
       "      <td>25.0</td>\n",
       "      <td>549.0</td>\n",
       "      <td>44.0</td>\n",
       "      <td>Juanna Vines</td>\n",
       "      <td>True</td>\n",
       "    </tr>\n",
       "    <tr>\n",
       "      <th>2</th>\n",
       "      <td>0003_01</td>\n",
       "      <td>Europa</td>\n",
       "      <td>False</td>\n",
       "      <td>A/0/S</td>\n",
       "      <td>TRAPPIST-1e</td>\n",
       "      <td>58.0</td>\n",
       "      <td>True</td>\n",
       "      <td>43.0</td>\n",
       "      <td>3576.0</td>\n",
       "      <td>0.0</td>\n",
       "      <td>6715.0</td>\n",
       "      <td>49.0</td>\n",
       "      <td>Altark Susent</td>\n",
       "      <td>False</td>\n",
       "    </tr>\n",
       "    <tr>\n",
       "      <th>3</th>\n",
       "      <td>0003_02</td>\n",
       "      <td>Europa</td>\n",
       "      <td>False</td>\n",
       "      <td>A/0/S</td>\n",
       "      <td>TRAPPIST-1e</td>\n",
       "      <td>33.0</td>\n",
       "      <td>False</td>\n",
       "      <td>0.0</td>\n",
       "      <td>1283.0</td>\n",
       "      <td>371.0</td>\n",
       "      <td>3329.0</td>\n",
       "      <td>193.0</td>\n",
       "      <td>Solam Susent</td>\n",
       "      <td>False</td>\n",
       "    </tr>\n",
       "    <tr>\n",
       "      <th>4</th>\n",
       "      <td>0004_01</td>\n",
       "      <td>Earth</td>\n",
       "      <td>False</td>\n",
       "      <td>F/1/S</td>\n",
       "      <td>TRAPPIST-1e</td>\n",
       "      <td>16.0</td>\n",
       "      <td>False</td>\n",
       "      <td>303.0</td>\n",
       "      <td>70.0</td>\n",
       "      <td>151.0</td>\n",
       "      <td>565.0</td>\n",
       "      <td>2.0</td>\n",
       "      <td>Willy Santantines</td>\n",
       "      <td>True</td>\n",
       "    </tr>\n",
       "  </tbody>\n",
       "</table>\n",
       "</div>"
      ],
      "text/plain": [
       "  PassengerId HomePlanet CryoSleep  Cabin  Destination   Age    VIP  \\\n",
       "0     0001_01     Europa     False  B/0/P  TRAPPIST-1e  39.0  False   \n",
       "1     0002_01      Earth     False  F/0/S  TRAPPIST-1e  24.0  False   \n",
       "2     0003_01     Europa     False  A/0/S  TRAPPIST-1e  58.0   True   \n",
       "3     0003_02     Europa     False  A/0/S  TRAPPIST-1e  33.0  False   \n",
       "4     0004_01      Earth     False  F/1/S  TRAPPIST-1e  16.0  False   \n",
       "\n",
       "   RoomService  FoodCourt  ShoppingMall     Spa  VRDeck               Name  \\\n",
       "0          0.0        0.0           0.0     0.0     0.0    Maham Ofracculy   \n",
       "1        109.0        9.0          25.0   549.0    44.0       Juanna Vines   \n",
       "2         43.0     3576.0           0.0  6715.0    49.0      Altark Susent   \n",
       "3          0.0     1283.0         371.0  3329.0   193.0       Solam Susent   \n",
       "4        303.0       70.0         151.0   565.0     2.0  Willy Santantines   \n",
       "\n",
       "   Transported  \n",
       "0        False  \n",
       "1         True  \n",
       "2        False  \n",
       "3        False  \n",
       "4         True  "
      ]
     },
     "execution_count": 5,
     "metadata": {},
     "output_type": "execute_result"
    }
   ],
   "source": [
    "train_df.head()"
   ]
  },
  {
   "cell_type": "code",
   "execution_count": 6,
   "id": "8492335a",
   "metadata": {
    "execution": {
     "iopub.execute_input": "2022-06-21T09:08:59.814392Z",
     "iopub.status.busy": "2022-06-21T09:08:59.814017Z",
     "iopub.status.idle": "2022-06-21T09:08:59.834094Z",
     "shell.execute_reply": "2022-06-21T09:08:59.833009Z"
    },
    "papermill": {
     "duration": 0.029913,
     "end_time": "2022-06-21T09:08:59.836167",
     "exception": false,
     "start_time": "2022-06-21T09:08:59.806254",
     "status": "completed"
    },
    "tags": []
   },
   "outputs": [
    {
     "data": {
      "text/html": [
       "<div>\n",
       "<style scoped>\n",
       "    .dataframe tbody tr th:only-of-type {\n",
       "        vertical-align: middle;\n",
       "    }\n",
       "\n",
       "    .dataframe tbody tr th {\n",
       "        vertical-align: top;\n",
       "    }\n",
       "\n",
       "    .dataframe thead th {\n",
       "        text-align: right;\n",
       "    }\n",
       "</style>\n",
       "<table border=\"1\" class=\"dataframe\">\n",
       "  <thead>\n",
       "    <tr style=\"text-align: right;\">\n",
       "      <th></th>\n",
       "      <th>PassengerId</th>\n",
       "      <th>HomePlanet</th>\n",
       "      <th>CryoSleep</th>\n",
       "      <th>Cabin</th>\n",
       "      <th>Destination</th>\n",
       "      <th>Age</th>\n",
       "      <th>VIP</th>\n",
       "      <th>RoomService</th>\n",
       "      <th>FoodCourt</th>\n",
       "      <th>ShoppingMall</th>\n",
       "      <th>Spa</th>\n",
       "      <th>VRDeck</th>\n",
       "      <th>Name</th>\n",
       "    </tr>\n",
       "  </thead>\n",
       "  <tbody>\n",
       "    <tr>\n",
       "      <th>0</th>\n",
       "      <td>0013_01</td>\n",
       "      <td>Earth</td>\n",
       "      <td>True</td>\n",
       "      <td>G/3/S</td>\n",
       "      <td>TRAPPIST-1e</td>\n",
       "      <td>27.0</td>\n",
       "      <td>False</td>\n",
       "      <td>0.0</td>\n",
       "      <td>0.0</td>\n",
       "      <td>0.0</td>\n",
       "      <td>0.0</td>\n",
       "      <td>0.0</td>\n",
       "      <td>Nelly Carsoning</td>\n",
       "    </tr>\n",
       "    <tr>\n",
       "      <th>1</th>\n",
       "      <td>0018_01</td>\n",
       "      <td>Earth</td>\n",
       "      <td>False</td>\n",
       "      <td>F/4/S</td>\n",
       "      <td>TRAPPIST-1e</td>\n",
       "      <td>19.0</td>\n",
       "      <td>False</td>\n",
       "      <td>0.0</td>\n",
       "      <td>9.0</td>\n",
       "      <td>0.0</td>\n",
       "      <td>2823.0</td>\n",
       "      <td>0.0</td>\n",
       "      <td>Lerome Peckers</td>\n",
       "    </tr>\n",
       "    <tr>\n",
       "      <th>2</th>\n",
       "      <td>0019_01</td>\n",
       "      <td>Europa</td>\n",
       "      <td>True</td>\n",
       "      <td>C/0/S</td>\n",
       "      <td>55 Cancri e</td>\n",
       "      <td>31.0</td>\n",
       "      <td>False</td>\n",
       "      <td>0.0</td>\n",
       "      <td>0.0</td>\n",
       "      <td>0.0</td>\n",
       "      <td>0.0</td>\n",
       "      <td>0.0</td>\n",
       "      <td>Sabih Unhearfus</td>\n",
       "    </tr>\n",
       "    <tr>\n",
       "      <th>3</th>\n",
       "      <td>0021_01</td>\n",
       "      <td>Europa</td>\n",
       "      <td>False</td>\n",
       "      <td>C/1/S</td>\n",
       "      <td>TRAPPIST-1e</td>\n",
       "      <td>38.0</td>\n",
       "      <td>False</td>\n",
       "      <td>0.0</td>\n",
       "      <td>6652.0</td>\n",
       "      <td>0.0</td>\n",
       "      <td>181.0</td>\n",
       "      <td>585.0</td>\n",
       "      <td>Meratz Caltilter</td>\n",
       "    </tr>\n",
       "    <tr>\n",
       "      <th>4</th>\n",
       "      <td>0023_01</td>\n",
       "      <td>Earth</td>\n",
       "      <td>False</td>\n",
       "      <td>F/5/S</td>\n",
       "      <td>TRAPPIST-1e</td>\n",
       "      <td>20.0</td>\n",
       "      <td>False</td>\n",
       "      <td>10.0</td>\n",
       "      <td>0.0</td>\n",
       "      <td>635.0</td>\n",
       "      <td>0.0</td>\n",
       "      <td>0.0</td>\n",
       "      <td>Brence Harperez</td>\n",
       "    </tr>\n",
       "  </tbody>\n",
       "</table>\n",
       "</div>"
      ],
      "text/plain": [
       "  PassengerId HomePlanet CryoSleep  Cabin  Destination   Age    VIP  \\\n",
       "0     0013_01      Earth      True  G/3/S  TRAPPIST-1e  27.0  False   \n",
       "1     0018_01      Earth     False  F/4/S  TRAPPIST-1e  19.0  False   \n",
       "2     0019_01     Europa      True  C/0/S  55 Cancri e  31.0  False   \n",
       "3     0021_01     Europa     False  C/1/S  TRAPPIST-1e  38.0  False   \n",
       "4     0023_01      Earth     False  F/5/S  TRAPPIST-1e  20.0  False   \n",
       "\n",
       "   RoomService  FoodCourt  ShoppingMall     Spa  VRDeck              Name  \n",
       "0          0.0        0.0           0.0     0.0     0.0   Nelly Carsoning  \n",
       "1          0.0        9.0           0.0  2823.0     0.0    Lerome Peckers  \n",
       "2          0.0        0.0           0.0     0.0     0.0   Sabih Unhearfus  \n",
       "3          0.0     6652.0           0.0   181.0   585.0  Meratz Caltilter  \n",
       "4         10.0        0.0         635.0     0.0     0.0   Brence Harperez  "
      ]
     },
     "execution_count": 6,
     "metadata": {},
     "output_type": "execute_result"
    }
   ],
   "source": [
    "test_df.head()"
   ]
  },
  {
   "cell_type": "code",
   "execution_count": 7,
   "id": "db0d9ec0",
   "metadata": {
    "execution": {
     "iopub.execute_input": "2022-06-21T09:08:59.851932Z",
     "iopub.status.busy": "2022-06-21T09:08:59.851165Z",
     "iopub.status.idle": "2022-06-21T09:08:59.859377Z",
     "shell.execute_reply": "2022-06-21T09:08:59.858453Z"
    },
    "papermill": {
     "duration": 0.018311,
     "end_time": "2022-06-21T09:08:59.861473",
     "exception": false,
     "start_time": "2022-06-21T09:08:59.843162",
     "status": "completed"
    },
    "tags": []
   },
   "outputs": [],
   "source": [
    "cat_names = ['HomePlanet', 'CryoSleep', 'Cabin', 'Destination', 'VIP']\n",
    "cont_names = ['Age', 'RoomService', 'FoodCourt','ShoppingMall','Spa','VRDeck']\n",
    "procs = [Categorify, FillMissing, Normalize]\n",
    "y_names = 'Transported'\n",
    "y_block = CategoryBlock()\n",
    "train_splits = RandomSplitter()(range_of(train_df))\n"
   ]
  },
  {
   "cell_type": "code",
   "execution_count": 8,
   "id": "d8f0c783",
   "metadata": {
    "execution": {
     "iopub.execute_input": "2022-06-21T09:08:59.876453Z",
     "iopub.status.busy": "2022-06-21T09:08:59.876076Z",
     "iopub.status.idle": "2022-06-21T09:09:00.100455Z",
     "shell.execute_reply": "2022-06-21T09:09:00.099553Z"
    },
    "papermill": {
     "duration": 0.234704,
     "end_time": "2022-06-21T09:09:00.102975",
     "exception": false,
     "start_time": "2022-06-21T09:08:59.868271",
     "status": "completed"
    },
    "tags": []
   },
   "outputs": [],
   "source": [
    "to = TabularPandas(train_df, procs=procs, cat_names=cat_names, cont_names=cont_names,\n",
    "                   y_names=y_names, y_block=y_block, splits=train_splits)\n"
   ]
  },
  {
   "cell_type": "code",
   "execution_count": 9,
   "id": "fba78c0e",
   "metadata": {
    "execution": {
     "iopub.execute_input": "2022-06-21T09:09:00.118412Z",
     "iopub.status.busy": "2022-06-21T09:09:00.118026Z",
     "iopub.status.idle": "2022-06-21T09:09:00.131794Z",
     "shell.execute_reply": "2022-06-21T09:09:00.130884Z"
    },
    "papermill": {
     "duration": 0.024051,
     "end_time": "2022-06-21T09:09:00.134029",
     "exception": false,
     "start_time": "2022-06-21T09:09:00.109978",
     "status": "completed"
    },
    "tags": []
   },
   "outputs": [],
   "source": [
    "dls = to.dataloaders()\n"
   ]
  },
  {
   "cell_type": "code",
   "execution_count": 10,
   "id": "ae567194",
   "metadata": {
    "execution": {
     "iopub.execute_input": "2022-06-21T09:09:00.149214Z",
     "iopub.status.busy": "2022-06-21T09:09:00.148849Z",
     "iopub.status.idle": "2022-06-21T09:09:00.191739Z",
     "shell.execute_reply": "2022-06-21T09:09:00.190921Z"
    },
    "papermill": {
     "duration": 0.053322,
     "end_time": "2022-06-21T09:09:00.194271",
     "exception": false,
     "start_time": "2022-06-21T09:09:00.140949",
     "status": "completed"
    },
    "tags": []
   },
   "outputs": [],
   "source": [
    "learn = tabular_learner(dls,[200,100], metrics=accuracy)"
   ]
  },
  {
   "cell_type": "code",
   "execution_count": 11,
   "id": "197154c6",
   "metadata": {
    "execution": {
     "iopub.execute_input": "2022-06-21T09:09:00.211195Z",
     "iopub.status.busy": "2022-06-21T09:09:00.210506Z",
     "iopub.status.idle": "2022-06-21T09:09:03.653367Z",
     "shell.execute_reply": "2022-06-21T09:09:03.652367Z"
    },
    "papermill": {
     "duration": 3.45293,
     "end_time": "2022-06-21T09:09:03.655563",
     "exception": false,
     "start_time": "2022-06-21T09:09:00.202633",
     "status": "completed"
    },
    "tags": []
   },
   "outputs": [
    {
     "data": {
      "text/html": [
       "\n",
       "<style>\n",
       "    /* Turns off some styling */\n",
       "    progress {\n",
       "        /* gets rid of default border in Firefox and Opera. */\n",
       "        border: none;\n",
       "        /* Needs to be in here for Safari polyfill so background images work as expected. */\n",
       "        background-size: auto;\n",
       "    }\n",
       "    .progress-bar-interrupted, .progress-bar-interrupted::-webkit-progress-bar {\n",
       "        background: #F44336;\n",
       "    }\n",
       "</style>\n"
      ],
      "text/plain": [
       "<IPython.core.display.HTML object>"
      ]
     },
     "metadata": {},
     "output_type": "display_data"
    },
    {
     "data": {
      "text/html": [],
      "text/plain": [
       "<IPython.core.display.HTML object>"
      ]
     },
     "metadata": {},
     "output_type": "display_data"
    },
    {
     "data": {
      "text/plain": [
       "SuggestedLRs(valley=0.0008317637839354575)"
      ]
     },
     "execution_count": 11,
     "metadata": {},
     "output_type": "execute_result"
    },
    {
     "data": {
      "image/png": "[encoded data removed]",
      "text/plain": [
       "<Figure size 432x288 with 1 Axes>"
      ]
     },
     "metadata": {
      "needs_background": "light"
     },
     "output_type": "display_data"
    }
   ],
   "source": [
    "learn.lr_find()"
   ]
  },
  {
   "cell_type": "code",
   "execution_count": 12,
   "id": "a82b9ce8",
   "metadata": {
    "execution": {
     "iopub.execute_input": "2022-06-21T09:09:03.672895Z",
     "iopub.status.busy": "2022-06-21T09:09:03.672498Z",
     "iopub.status.idle": "2022-06-21T09:09:12.038253Z",
     "shell.execute_reply": "2022-06-21T09:09:12.037604Z"
    },
    "papermill": {
     "duration": 8.376971,
     "end_time": "2022-06-21T09:09:12.040361",
     "exception": false,
     "start_time": "2022-06-21T09:09:03.663390",
     "status": "completed"
    },
    "tags": []
   },
   "outputs": [
    {
     "data": {
      "text/html": [
       "\n",
       "<style>\n",
       "    /* Turns off some styling */\n",
       "    progress {\n",
       "        /* gets rid of default border in Firefox and Opera. */\n",
       "        border: none;\n",
       "        /* Needs to be in here for Safari polyfill so background images work as expected. */\n",
       "        background-size: auto;\n",
       "    }\n",
       "    .progress-bar-interrupted, .progress-bar-interrupted::-webkit-progress-bar {\n",
       "        background: #F44336;\n",
       "    }\n",
       "</style>\n"
      ],
      "text/plain": [
       "<IPython.core.display.HTML object>"
      ]
     },
     "metadata": {},
     "output_type": "display_data"
    },
    {
     "data": {
      "text/html": [
       "<table border=\"1\" class=\"dataframe\">\n",
       "  <thead>\n",
       "    <tr style=\"text-align: left;\">\n",
       "      <th>epoch</th>\n",
       "      <th>train_loss</th>\n",
       "      <th>valid_loss</th>\n",
       "      <th>accuracy</th>\n",
       "      <th>time</th>\n",
       "    </tr>\n",
       "  </thead>\n",
       "  <tbody>\n",
       "    <tr>\n",
       "      <td>0</td>\n",
       "      <td>0.493633</td>\n",
       "      <td>0.451789</td>\n",
       "      <td>0.782509</td>\n",
       "      <td>00:02</td>\n",
       "    </tr>\n",
       "    <tr>\n",
       "      <td>1</td>\n",
       "      <td>0.267653</td>\n",
       "      <td>0.510264</td>\n",
       "      <td>0.765247</td>\n",
       "      <td>00:02</td>\n",
       "    </tr>\n",
       "    <tr>\n",
       "      <td>2</td>\n",
       "      <td>0.147965</td>\n",
       "      <td>0.589995</td>\n",
       "      <td>0.766974</td>\n",
       "      <td>00:02</td>\n",
       "    </tr>\n",
       "  </tbody>\n",
       "</table>"
      ],
      "text/plain": [
       "<IPython.core.display.HTML object>"
      ]
     },
     "metadata": {},
     "output_type": "display_data"
    }
   ],
   "source": [
    "learn.fit_one_cycle(3, 1e-2)"
   ]
  },
  {
   "cell_type": "code",
   "execution_count": 13,
   "id": "7f67ff5d",
   "metadata": {
    "execution": {
     "iopub.execute_input": "2022-06-21T09:09:12.059510Z",
     "iopub.status.busy": "2022-06-21T09:09:12.059121Z",
     "iopub.status.idle": "2022-06-21T09:09:14.852527Z",
     "shell.execute_reply": "2022-06-21T09:09:14.851375Z"
    },
    "papermill": {
     "duration": 2.805184,
     "end_time": "2022-06-21T09:09:14.854815",
     "exception": false,
     "start_time": "2022-06-21T09:09:12.049631",
     "status": "completed"
    },
    "tags": []
   },
   "outputs": [
    {
     "data": {
      "text/html": [
       "\n",
       "<style>\n",
       "    /* Turns off some styling */\n",
       "    progress {\n",
       "        /* gets rid of default border in Firefox and Opera. */\n",
       "        border: none;\n",
       "        /* Needs to be in here for Safari polyfill so background images work as expected. */\n",
       "        background-size: auto;\n",
       "    }\n",
       "    .progress-bar-interrupted, .progress-bar-interrupted::-webkit-progress-bar {\n",
       "        background: #F44336;\n",
       "    }\n",
       "</style>\n"
      ],
      "text/plain": [
       "<IPython.core.display.HTML object>"
      ]
     },
     "metadata": {},
     "output_type": "display_data"
    },
    {
     "data": {
      "text/html": [],
      "text/plain": [
       "<IPython.core.display.HTML object>"
      ]
     },
     "metadata": {},
     "output_type": "display_data"
    },
    {
     "data": {
      "text/plain": [
       "SuggestedLRs(valley=0.004365158267319202)"
      ]
     },
     "execution_count": 13,
     "metadata": {},
     "output_type": "execute_result"
    },
    {
     "data": {
      "image/png": "[encoded data removed]",
      "text/plain": [
       "<Figure size 432x288 with 1 Axes>"
      ]
     },
     "metadata": {
      "needs_background": "light"
     },
     "output_type": "display_data"
    }
   ],
   "source": [
    "learn.lr_find()"
   ]
  },
  {
   "cell_type": "code",
   "execution_count": 14,
   "id": "cca8108e",
   "metadata": {
    "execution": {
     "iopub.execute_input": "2022-06-21T09:09:14.874206Z",
     "iopub.status.busy": "2022-06-21T09:09:14.873832Z",
     "iopub.status.idle": "2022-06-21T09:09:21.422984Z",
     "shell.execute_reply": "2022-06-21T09:09:21.422301Z"
    },
    "papermill": {
     "duration": 6.561258,
     "end_time": "2022-06-21T09:09:21.424951",
     "exception": false,
     "start_time": "2022-06-21T09:09:14.863693",
     "status": "completed"
    },
    "tags": []
   },
   "outputs": [
    {
     "data": {
      "text/html": [
       "\n",
       "<style>\n",
       "    /* Turns off some styling */\n",
       "    progress {\n",
       "        /* gets rid of default border in Firefox and Opera. */\n",
       "        border: none;\n",
       "        /* Needs to be in here for Safari polyfill so background images work as expected. */\n",
       "        background-size: auto;\n",
       "    }\n",
       "    .progress-bar-interrupted, .progress-bar-interrupted::-webkit-progress-bar {\n",
       "        background: #F44336;\n",
       "    }\n",
       "</style>\n"
      ],
      "text/plain": [
       "<IPython.core.display.HTML object>"
      ]
     },
     "metadata": {},
     "output_type": "display_data"
    },
    {
     "data": {
      "text/html": [
       "<table border=\"1\" class=\"dataframe\">\n",
       "  <thead>\n",
       "    <tr style=\"text-align: left;\">\n",
       "      <th>epoch</th>\n",
       "      <th>train_loss</th>\n",
       "      <th>valid_loss</th>\n",
       "      <th>accuracy</th>\n",
       "      <th>time</th>\n",
       "    </tr>\n",
       "  </thead>\n",
       "  <tbody>\n",
       "    <tr>\n",
       "      <td>0</td>\n",
       "      <td>0.104624</td>\n",
       "      <td>0.622936</td>\n",
       "      <td>0.761795</td>\n",
       "      <td>00:02</td>\n",
       "    </tr>\n",
       "    <tr>\n",
       "      <td>1</td>\n",
       "      <td>0.099866</td>\n",
       "      <td>0.588552</td>\n",
       "      <td>0.770426</td>\n",
       "      <td>00:02</td>\n",
       "    </tr>\n",
       "    <tr>\n",
       "      <td>2</td>\n",
       "      <td>0.094914</td>\n",
       "      <td>0.611627</td>\n",
       "      <td>0.770426</td>\n",
       "      <td>00:02</td>\n",
       "    </tr>\n",
       "  </tbody>\n",
       "</table>"
      ],
      "text/plain": [
       "<IPython.core.display.HTML object>"
      ]
     },
     "metadata": {},
     "output_type": "display_data"
    }
   ],
   "source": [
    "learn.fit_one_cycle(3,3e-5)"
   ]
  },
  {
   "cell_type": "code",
   "execution_count": 15,
   "id": "12f451ec",
   "metadata": {
    "execution": {
     "iopub.execute_input": "2022-06-21T09:09:21.444767Z",
     "iopub.status.busy": "2022-06-21T09:09:21.444141Z",
     "iopub.status.idle": "2022-06-21T09:09:21.814826Z",
     "shell.execute_reply": "2022-06-21T09:09:21.813884Z"
    },
    "papermill": {
     "duration": 0.383146,
     "end_time": "2022-06-21T09:09:21.817120",
     "exception": false,
     "start_time": "2022-06-21T09:09:21.433974",
     "status": "completed"
    },
    "tags": []
   },
   "outputs": [
    {
     "data": {
      "text/html": [
       "\n",
       "<style>\n",
       "    /* Turns off some styling */\n",
       "    progress {\n",
       "        /* gets rid of default border in Firefox and Opera. */\n",
       "        border: none;\n",
       "        /* Needs to be in here for Safari polyfill so background images work as expected. */\n",
       "        background-size: auto;\n",
       "    }\n",
       "    .progress-bar-interrupted, .progress-bar-interrupted::-webkit-progress-bar {\n",
       "        background: #F44336;\n",
       "    }\n",
       "</style>\n"
      ],
      "text/plain": [
       "<IPython.core.display.HTML object>"
      ]
     },
     "metadata": {},
     "output_type": "display_data"
    },
    {
     "data": {
      "text/html": [],
      "text/plain": [
       "<IPython.core.display.HTML object>"
      ]
     },
     "metadata": {},
     "output_type": "display_data"
    }
   ],
   "source": [
    "dl = learn.dls.test_dl(test_df, bs=64)\n",
    "dlp, _  = learn.get_preds(dl=dl)"
   ]
  },
  {
   "cell_type": "code",
   "execution_count": 16,
   "id": "48f885af",
   "metadata": {
    "execution": {
     "iopub.execute_input": "2022-06-21T09:09:21.837774Z",
     "iopub.status.busy": "2022-06-21T09:09:21.837058Z",
     "iopub.status.idle": "2022-06-21T09:09:21.852224Z",
     "shell.execute_reply": "2022-06-21T09:09:21.851216Z"
    },
    "papermill": {
     "duration": 0.027739,
     "end_time": "2022-06-21T09:09:21.854310",
     "exception": false,
     "start_time": "2022-06-21T09:09:21.826571",
     "status": "completed"
    },
    "tags": []
   },
   "outputs": [
    {
     "data": {
      "text/plain": [
       "array([0, 0, 1, ..., 1, 1, 1])"
      ]
     },
     "execution_count": 16,
     "metadata": {},
     "output_type": "execute_result"
    }
   ],
   "source": [
    "labels = to_np(np.argmax(dlp, 1))\n",
    "len(labels)\n",
    "labels"
   ]
  },
  {
   "cell_type": "code",
   "execution_count": 17,
   "id": "34e42913",
   "metadata": {
    "execution": {
     "iopub.execute_input": "2022-06-21T09:09:21.874825Z",
     "iopub.status.busy": "2022-06-21T09:09:21.874232Z",
     "iopub.status.idle": "2022-06-21T09:09:22.948781Z",
     "shell.execute_reply": "2022-06-21T09:09:22.947845Z"
    },
    "papermill": {
     "duration": 1.08753,
     "end_time": "2022-06-21T09:09:22.951159",
     "exception": false,
     "start_time": "2022-06-21T09:09:21.863629",
     "status": "completed"
    },
    "tags": []
   },
   "outputs": [
    {
     "data": {
      "text/html": [
       "<div>\n",
       "<style scoped>\n",
       "    .dataframe tbody tr th:only-of-type {\n",
       "        vertical-align: middle;\n",
       "    }\n",
       "\n",
       "    .dataframe tbody tr th {\n",
       "        vertical-align: top;\n",
       "    }\n",
       "\n",
       "    .dataframe thead th {\n",
       "        text-align: right;\n",
       "    }\n",
       "</style>\n",
       "<table border=\"1\" class=\"dataframe\">\n",
       "  <thead>\n",
       "    <tr style=\"text-align: right;\">\n",
       "      <th></th>\n",
       "      <th>PassengerId</th>\n",
       "      <th>Transported</th>\n",
       "    </tr>\n",
       "  </thead>\n",
       "  <tbody>\n",
       "    <tr>\n",
       "      <th>0</th>\n",
       "      <td>0013_01</td>\n",
       "      <td>False</td>\n",
       "    </tr>\n",
       "    <tr>\n",
       "      <th>1</th>\n",
       "      <td>0018_01</td>\n",
       "      <td>False</td>\n",
       "    </tr>\n",
       "    <tr>\n",
       "      <th>2</th>\n",
       "      <td>0019_01</td>\n",
       "      <td>True</td>\n",
       "    </tr>\n",
       "    <tr>\n",
       "      <th>3</th>\n",
       "      <td>0021_01</td>\n",
       "      <td>True</td>\n",
       "    </tr>\n",
       "    <tr>\n",
       "      <th>4</th>\n",
       "      <td>0023_01</td>\n",
       "      <td>False</td>\n",
       "    </tr>\n",
       "    <tr>\n",
       "      <th>...</th>\n",
       "      <td>...</td>\n",
       "      <td>...</td>\n",
       "    </tr>\n",
       "    <tr>\n",
       "      <th>4272</th>\n",
       "      <td>9266_02</td>\n",
       "      <td>False</td>\n",
       "    </tr>\n",
       "    <tr>\n",
       "      <th>4273</th>\n",
       "      <td>9269_01</td>\n",
       "      <td>False</td>\n",
       "    </tr>\n",
       "    <tr>\n",
       "      <th>4274</th>\n",
       "      <td>9271_01</td>\n",
       "      <td>True</td>\n",
       "    </tr>\n",
       "    <tr>\n",
       "      <th>4275</th>\n",
       "      <td>9273_01</td>\n",
       "      <td>True</td>\n",
       "    </tr>\n",
       "    <tr>\n",
       "      <th>4276</th>\n",
       "      <td>9277_01</td>\n",
       "      <td>True</td>\n",
       "    </tr>\n",
       "  </tbody>\n",
       "</table>\n",
       "<p>4277 rows × 2 columns</p>\n",
       "</div>"
      ],
      "text/plain": [
       "     PassengerId Transported\n",
       "0        0013_01       False\n",
       "1        0018_01       False\n",
       "2        0019_01        True\n",
       "3        0021_01        True\n",
       "4        0023_01       False\n",
       "...          ...         ...\n",
       "4272     9266_02       False\n",
       "4273     9269_01       False\n",
       "4274     9271_01        True\n",
       "4275     9273_01        True\n",
       "4276     9277_01        True\n",
       "\n",
       "[4277 rows x 2 columns]"
      ]
     },
     "execution_count": 17,
     "metadata": {},
     "output_type": "execute_result"
    }
   ],
   "source": [
    "for o in range(len(labels)):\n",
    "    submission.loc[o,'Transported']='True' if labels[o]==1 else 'False'\n",
    "\n",
    "submission"
   ]
  },
  {
   "cell_type": "code",
   "execution_count": 18,
   "id": "300a6d45",
   "metadata": {
    "execution": {
     "iopub.execute_input": "2022-06-21T09:09:22.973267Z",
     "iopub.status.busy": "2022-06-21T09:09:22.972197Z",
     "iopub.status.idle": "2022-06-21T09:09:22.987917Z",
     "shell.execute_reply": "2022-06-21T09:09:22.986993Z"
    },
    "papermill": {
     "duration": 0.028947,
     "end_time": "2022-06-21T09:09:22.990343",
     "exception": false,
     "start_time": "2022-06-21T09:09:22.961396",
     "status": "completed"
    },
    "tags": []
   },
   "outputs": [],
   "source": [
    "submission.to_csv('submission1.csv',index = False)"
   ]
  },
  {
   "cell_type": "code",
   "execution_count": null,
   "id": "e1f72ca3",
   "metadata": {
    "papermill": {
     "duration": 0.009714,
     "end_time": "2022-06-21T09:09:23.009935",
     "exception": false,
     "start_time": "2022-06-21T09:09:23.000221",
     "status": "completed"
    },
    "tags": []
   },
   "outputs": [],
   "source": []
  }
 ],
 "metadata": {
  "kernelspec": {
   "display_name": "Python 3",
   "language": "python",
   "name": "python3"
  },
  "language_info": {
   "codemirror_mode": {
    "name": "ipython",
    "version": 3
   },
   "file_extension": ".py",
   "mimetype": "text/x-python",
   "name": "python",
   "nbconvert_exporter": "python",
   "pygments_lexer": "ipython3",
   "version": "3.7.12"
  },
  "papermill": {
   "default_parameters": {},
   "duration": 37.045042,
   "end_time": "2022-06-21T09:09:23.942099",
   "environment_variables": {},
   "exception": null,
   "input_path": "__notebook__.ipynb",
   "output_path": "__notebook__.ipynb",
   "parameters": {},
   "start_time": "2022-06-21T09:08:46.897057",
   "version": "2.3.4"
  }
 },
 "nbformat": 4,
 "nbformat_minor": 5
}
